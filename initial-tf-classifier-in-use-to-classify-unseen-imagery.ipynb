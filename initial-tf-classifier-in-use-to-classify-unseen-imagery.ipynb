{
 "cells": [
  {
   "cell_type": "code",
   "execution_count": 52,
   "metadata": {},
   "outputs": [],
   "source": [
    "import matplotlib.pyplot as plt\n",
    "import numpy as np\n",
    "import PIL\n",
    "import tensorflow as tf\n",
    "import os"
   ]
  },
  {
   "cell_type": "code",
   "execution_count": 60,
   "metadata": {},
   "outputs": [],
   "source": [
    "img_width, img_height = 300, 300\n",
    "\n",
    "class_names = ['damage_fracture_collapse', 'deposit_rubble_rubbish', 'joint_displacement', 'ok_condition', 'roots', 'water_present']"
   ]
  },
  {
   "cell_type": "code",
   "execution_count": 54,
   "metadata": {},
   "outputs": [],
   "source": [
    "TF_MODEL_FILE_PATH = 'initial-model.tflite' # The default path to the saved TensorFlow Lite model\n",
    "\n",
    "interpreter = tf.lite.Interpreter(model_path=TF_MODEL_FILE_PATH)"
   ]
  },
  {
   "cell_type": "code",
   "execution_count": 55,
   "metadata": {},
   "outputs": [
    {
     "data": {
      "text/plain": [
       "{'serving_default': {'inputs': ['sequential_1_input'], 'outputs': ['outputs']}}"
      ]
     },
     "execution_count": 55,
     "metadata": {},
     "output_type": "execute_result"
    }
   ],
   "source": [
    "interpreter.get_signature_list()"
   ]
  },
  {
   "cell_type": "code",
   "execution_count": 56,
   "metadata": {},
   "outputs": [
    {
     "data": {
      "text/plain": [
       "<tensorflow.lite.python.interpreter.SignatureRunner at 0x21876ded690>"
      ]
     },
     "execution_count": 56,
     "metadata": {},
     "output_type": "execute_result"
    }
   ],
   "source": [
    "classify_lite = interpreter.get_signature_runner('serving_default')\n",
    "classify_lite"
   ]
  },
  {
   "cell_type": "code",
   "execution_count": 57,
   "metadata": {},
   "outputs": [],
   "source": [
    "def open_img(img_path, img_height, img_width):\n",
    "    img = tf.keras.utils.load_img(\n",
    "        img_path, target_size=(img_height, img_width)\n",
    "    )\n",
    "    img_array = tf.keras.utils.img_to_array(img)\n",
    "    img_array = tf.expand_dims(img_array, 0)  # Create a batch\n",
    "    return img_array  # Return the prepared image array"
   ]
  },
  {
   "cell_type": "code",
   "execution_count": 62,
   "metadata": {},
   "outputs": [],
   "source": [
    "\n",
    "def predict_and_classify_image(img):\n",
    "    # Assuming img_height and img_width are known or defined elsewhere\n",
    "    img_array = open_img(img, img_height, img_width)\n",
    "    predictions_lite = classify_lite(sequential_1_input=img_array)['outputs']\n",
    "    score_lite = tf.nn.softmax(predictions_lite)\n",
    "\n",
    "    print(\n",
    "        \"{} image most likely belongs to {} with a {:.2f} percent confidence.\"\n",
    "        .format(img, class_names[np.argmax(score_lite)], 100 * np.max(score_lite))\n",
    "    )"
   ]
  },
  {
   "cell_type": "code",
   "execution_count": 63,
   "metadata": {},
   "outputs": [
    {
     "name": "stdout",
     "output_type": "stream",
     "text": [
      "./unsorted-images-for-post-initial-classification\\ST35885051_ST35884004_DS_230119_161744_3_mp4 - Frame 00007050.jpg image most likely belongs to water_present with a 81.01 percent confidence.\n",
      "./unsorted-images-for-post-initial-classification\\ST35885051_ST35884004_DS_230119_161744_3_mp4 - Frame 00007450.jpg image most likely belongs to water_present with a 89.35 percent confidence.\n",
      "./unsorted-images-for-post-initial-classification\\ST35885051_ST35884004_DS_230119_161744_3_mp4 - Frame 00007850.jpg image most likely belongs to water_present with a 85.70 percent confidence.\n",
      "./unsorted-images-for-post-initial-classification\\ST35885051_ST35884004_DS_230119_161744_3_mp4 - Frame 00008250.jpg image most likely belongs to water_present with a 87.14 percent confidence.\n",
      "./unsorted-images-for-post-initial-classification\\ST35885051_ST35884004_DS_230119_161744_3_mp4 - Frame 00008650.jpg image most likely belongs to water_present with a 87.37 percent confidence.\n",
      "./unsorted-images-for-post-initial-classification\\ST35885051_ST35884004_DS_230119_161744_3_mp4 - Frame 00009050.jpg image most likely belongs to water_present with a 88.35 percent confidence.\n",
      "./unsorted-images-for-post-initial-classification\\ST35885051_ST35884004_DS_230119_161744_3_mp4 - Frame 00009450.jpg image most likely belongs to deposit_rubble_rubbish with a 70.39 percent confidence.\n",
      "./unsorted-images-for-post-initial-classification\\ST35885051_ST35884004_DS_230119_161744_3_mp4 - Frame 00009850.jpg image most likely belongs to water_present with a 99.33 percent confidence.\n",
      "./unsorted-images-for-post-initial-classification\\ST35885051_ST35884004_DS_230119_161744_3_mp4 - Frame 00010250.jpg image most likely belongs to water_present with a 94.69 percent confidence.\n",
      "./unsorted-images-for-post-initial-classification\\ST35885051_ST35884004_DS_230119_161744_3_mp4 - Frame 00010650.jpg image most likely belongs to water_present with a 93.91 percent confidence.\n",
      "./unsorted-images-for-post-initial-classification\\ST35885051_ST35884004_DS_230119_161744_3_mp4 - Frame 00011050.jpg image most likely belongs to water_present with a 89.08 percent confidence.\n",
      "./unsorted-images-for-post-initial-classification\\ST35885051_ST35884004_DS_230119_161744_3_mp4 - Frame 00011450.jpg image most likely belongs to water_present with a 75.72 percent confidence.\n",
      "./unsorted-images-for-post-initial-classification\\ST35885051_ST35884004_DS_230119_161744_3_mp4 - Frame 00011850.jpg image most likely belongs to water_present with a 83.65 percent confidence.\n",
      "./unsorted-images-for-post-initial-classification\\ST35885051_ST35884004_DS_230119_161744_3_mp4 - Frame 00012250.jpg image most likely belongs to water_present with a 49.84 percent confidence.\n",
      "./unsorted-images-for-post-initial-classification\\ST35885051_ST35884004_DS_230119_161744_3_mp4 - Frame 00012650.jpg image most likely belongs to water_present with a 73.12 percent confidence.\n",
      "./unsorted-images-for-post-initial-classification\\ST35885051_ST35884004_DS_230119_161744_3_mp4 - Frame 00013050.jpg image most likely belongs to water_present with a 75.66 percent confidence.\n",
      "./unsorted-images-for-post-initial-classification\\SV 1_MHC2_US_230124_134950_21_mpg - Frame 00000272.jpg image most likely belongs to joint_displacement with a 75.77 percent confidence.\n",
      "./unsorted-images-for-post-initial-classification\\SV 1_MHC2_US_230124_134950_21_mpg - Frame 00000672.jpg image most likely belongs to ok_condition with a 51.20 percent confidence.\n",
      "./unsorted-images-for-post-initial-classification\\SV 1_MHC2_US_230124_134950_21_mpg - Frame 00001072.jpg image most likely belongs to ok_condition with a 51.20 percent confidence.\n",
      "./unsorted-images-for-post-initial-classification\\SV1_MHF1_US_230222_102102_4_mp4 - Frame 00000347.jpg image most likely belongs to joint_displacement with a 53.17 percent confidence.\n",
      "./unsorted-images-for-post-initial-classification\\SV1_MHF1_US_230222_102102_4_mp4 - Frame 00000747.jpg image most likely belongs to joint_displacement with a 53.00 percent confidence.\n",
      "./unsorted-images-for-post-initial-classification\\SV1_MHF1_US_230222_102102_4_mp4 - Frame 00001147.jpg image most likely belongs to damage_fracture_collapse with a 44.79 percent confidence.\n",
      "./unsorted-images-for-post-initial-classification\\SV1_MHF1_US_230222_102102_4_mp4 - Frame 00001547.jpg image most likely belongs to ok_condition with a 54.24 percent confidence.\n",
      "./unsorted-images-for-post-initial-classification\\SV1_MHF1_US_230222_102102_4_mp4 - Frame 00001947.jpg image most likely belongs to joint_displacement with a 70.54 percent confidence.\n",
      "./unsorted-images-for-post-initial-classification\\SV1_MHF1_US_230222_102102_4_mp4 - Frame 00002347.jpg image most likely belongs to joint_displacement with a 62.89 percent confidence.\n",
      "./unsorted-images-for-post-initial-classification\\SV1_MHF1_US_230222_102102_4_mp4 - Frame 00002747.jpg image most likely belongs to damage_fracture_collapse with a 73.14 percent confidence.\n",
      "./unsorted-images-for-post-initial-classification\\SV_F3_US_230112_132143_7_mp4 - Frame 00000075.jpg image most likely belongs to water_present with a 99.89 percent confidence.\n",
      "./unsorted-images-for-post-initial-classification\\SV_F3_US_230112_132143_7_mp4 - Frame 00000475.jpg image most likely belongs to joint_displacement with a 87.45 percent confidence.\n",
      "./unsorted-images-for-post-initial-classification\\SV_F3_US_230112_132143_7_mp4 - Frame 00000875.jpg image most likely belongs to damage_fracture_collapse with a 100.00 percent confidence.\n",
      "./unsorted-images-for-post-initial-classification\\SV_MHF1_US_230124_100659_1_mpg - Frame 00000332.jpg image most likely belongs to joint_displacement with a 47.32 percent confidence.\n",
      "./unsorted-images-for-post-initial-classification\\SV_MHF1_US_230124_100659_1_mpg - Frame 00000732.jpg image most likely belongs to ok_condition with a 40.74 percent confidence.\n",
      "./unsorted-images-for-post-initial-classification\\SV_MHF1_US_230124_100659_1_mpg - Frame 00001132.jpg image most likely belongs to ok_condition with a 64.86 percent confidence.\n",
      "./unsorted-images-for-post-initial-classification\\SV_MHF1_US_230124_100659_1_mpg - Frame 00001532.jpg image most likely belongs to ok_condition with a 65.15 percent confidence.\n",
      "./unsorted-images-for-post-initial-classification\\SV_MHF1_US_230124_100659_1_mpg - Frame 00001932.jpg image most likely belongs to ok_condition with a 64.02 percent confidence.\n",
      "./unsorted-images-for-post-initial-classification\\SV_MHF1_US_230124_100659_1_mpg - Frame 00002332.jpg image most likely belongs to ok_condition with a 64.02 percent confidence.\n",
      "./unsorted-images-for-post-initial-classification\\SV_MHF1_US_230124_100659_1_mpg - Frame 00002732.jpg image most likely belongs to ok_condition with a 64.02 percent confidence.\n",
      "./unsorted-images-for-post-initial-classification\\SV_MHF1_US_230124_100659_1_mpg - Frame 00003132.jpg image most likely belongs to ok_condition with a 64.02 percent confidence.\n",
      "./unsorted-images-for-post-initial-classification\\SV_MHF1_US_230124_100659_1_mpg - Frame 00003532.jpg image most likely belongs to ok_condition with a 64.02 percent confidence.\n",
      "./unsorted-images-for-post-initial-classification\\SV_MHF1_US_230124_100659_1_mpg - Frame 00003932.jpg image most likely belongs to ok_condition with a 64.02 percent confidence.\n",
      "./unsorted-images-for-post-initial-classification\\SW-MH01X_701326e5-3518-4b42-9eca-9bc496f2f074bda57f07-f3e1-435e-a29d-a67fa6409096_mp4 - Frame 00000231.jpg image most likely belongs to water_present with a 56.55 percent confidence.\n",
      "./unsorted-images-for-post-initial-classification\\SW-MH01X_701326e5-3518-4b42-9eca-9bc496f2f074bda57f07-f3e1-435e-a29d-a67fa6409096_mp4 - Frame 00000631.jpg image most likely belongs to water_present with a 91.45 percent confidence.\n",
      "./unsorted-images-for-post-initial-classification\\SW-MH01X_701326e5-3518-4b42-9eca-9bc496f2f074bda57f07-f3e1-435e-a29d-a67fa6409096_mp4 - Frame 00001031.jpg image most likely belongs to ok_condition with a 67.95 percent confidence.\n",
      "./unsorted-images-for-post-initial-classification\\SW-MH01X_701326e5-3518-4b42-9eca-9bc496f2f074bda57f07-f3e1-435e-a29d-a67fa6409096_mp4 - Frame 00001431.jpg image most likely belongs to water_present with a 54.05 percent confidence.\n",
      "./unsorted-images-for-post-initial-classification\\SW-MH01X_701326e5-3518-4b42-9eca-9bc496f2f074bda57f07-f3e1-435e-a29d-a67fa6409096_mp4 - Frame 00001831.jpg image most likely belongs to water_present with a 71.21 percent confidence.\n",
      "./unsorted-images-for-post-initial-classification\\SW-MH01X_701326e5-3518-4b42-9eca-9bc496f2f074bda57f07-f3e1-435e-a29d-a67fa6409096_mp4 - Frame 00002231.jpg image most likely belongs to joint_displacement with a 54.67 percent confidence.\n",
      "./unsorted-images-for-post-initial-classification\\SW-MH01X_701326e5-3518-4b42-9eca-9bc496f2f074bda57f07-f3e1-435e-a29d-a67fa6409096_mp4 - Frame 00002631.jpg image most likely belongs to water_present with a 52.93 percent confidence.\n",
      "./unsorted-images-for-post-initial-classification\\SW-MH01X_701326e5-3518-4b42-9eca-9bc496f2f074bda57f07-f3e1-435e-a29d-a67fa6409096_mp4 - Frame 00003031.jpg image most likely belongs to water_present with a 65.31 percent confidence.\n",
      "./unsorted-images-for-post-initial-classification\\SW-MH02X_8f611096-d186-4f6b-8b26-2261e7d5f0c96f4d9c96-9f4b-435f-8dd3-427f9fe5b318_mp4 - Frame 00000075.jpg image most likely belongs to ok_condition with a 84.09 percent confidence.\n",
      "./unsorted-images-for-post-initial-classification\\SW-MH02X_8f611096-d186-4f6b-8b26-2261e7d5f0c96f4d9c96-9f4b-435f-8dd3-427f9fe5b318_mp4 - Frame 00000475.jpg image most likely belongs to ok_condition with a 67.77 percent confidence.\n",
      "./unsorted-images-for-post-initial-classification\\SW-MH02X_8f611096-d186-4f6b-8b26-2261e7d5f0c96f4d9c96-9f4b-435f-8dd3-427f9fe5b318_mp4 - Frame 00000875.jpg image most likely belongs to roots with a 74.48 percent confidence.\n",
      "./unsorted-images-for-post-initial-classification\\SW-MH02X_8f611096-d186-4f6b-8b26-2261e7d5f0c96f4d9c96-9f4b-435f-8dd3-427f9fe5b318_mp4 - Frame 00001275.jpg image most likely belongs to roots with a 73.04 percent confidence.\n",
      "./unsorted-images-for-post-initial-classification\\SW-RG01X_2919edd6-401e-41d1-b196-715ca4d7752f39fd5aa2-4e7d-48b9-a442-2e827e23de97_mp4 - Frame 00000068.jpg image most likely belongs to water_present with a 89.29 percent confidence.\n",
      "./unsorted-images-for-post-initial-classification\\SW-RG01X_2919edd6-401e-41d1-b196-715ca4d7752f39fd5aa2-4e7d-48b9-a442-2e827e23de97_mp4 - Frame 00000468.jpg image most likely belongs to water_present with a 99.04 percent confidence.\n",
      "./unsorted-images-for-post-initial-classification\\SW-RG01X_2919edd6-401e-41d1-b196-715ca4d7752f39fd5aa2-4e7d-48b9-a442-2e827e23de97_mp4 - Frame 00000868.jpg image most likely belongs to water_present with a 58.02 percent confidence.\n",
      "./unsorted-images-for-post-initial-classification\\SW-RG01X_2919edd6-401e-41d1-b196-715ca4d7752f39fd5aa2-4e7d-48b9-a442-2e827e23de97_mp4 - Frame 00001268.jpg image most likely belongs to ok_condition with a 50.15 percent confidence.\n",
      "./unsorted-images-for-post-initial-classification\\SW-RG01X_2919edd6-401e-41d1-b196-715ca4d7752f39fd5aa2-4e7d-48b9-a442-2e827e23de97_mp4 - Frame 00001668.jpg image most likely belongs to water_present with a 79.16 percent confidence.\n"
     ]
    }
   ],
   "source": [
    "input_directory = './unsorted-images-for-post-initial-classification'\n",
    "for image in os.listdir(input_directory):\n",
    "    image_to_classify = os.path.join(input_directory, image)\n",
    "    predict_and_classify_image(image_to_classify)"
   ]
  },
  {
   "cell_type": "code",
   "execution_count": null,
   "metadata": {},
   "outputs": [
    {
     "name": "stdout",
     "output_type": "stream",
     "text": [
      "C:\\01 Github Code\\Ober-Pipe-Condition-Detector\\quick-prediction-test\\pipe-with-tons-of-water.jpg image most likely belongs to deposit_rubble_rubbish with a 98.66 percent confidence.\n"
     ]
    }
   ],
   "source": []
  },
  {
   "cell_type": "markdown",
   "metadata": {},
   "source": [
    "The prediction generated by the lite model should be almost identical to the predictions generated by the original model:"
   ]
  },
  {
   "cell_type": "code",
   "execution_count": null,
   "metadata": {},
   "outputs": [],
   "source": []
  }
 ],
 "metadata": {
  "kernelspec": {
   "display_name": "myenv",
   "language": "python",
   "name": "python3"
  },
  "language_info": {
   "codemirror_mode": {
    "name": "ipython",
    "version": 3
   },
   "file_extension": ".py",
   "mimetype": "text/x-python",
   "name": "python",
   "nbconvert_exporter": "python",
   "pygments_lexer": "ipython3",
   "version": "3.10.9"
  }
 },
 "nbformat": 4,
 "nbformat_minor": 2
}
